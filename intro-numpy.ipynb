{
 "cells": [
  {
   "cell_type": "markdown",
   "id": "binding-bahamas",
   "metadata": {},
   "source": [
    "# Numpy "
   ]
  },
  {
   "cell_type": "code",
   "execution_count": 1,
   "id": "latin-guitar",
   "metadata": {},
   "outputs": [],
   "source": [
    "import numpy as np"
   ]
  },
  {
   "cell_type": "code",
   "execution_count": 4,
   "id": "practical-links",
   "metadata": {},
   "outputs": [
    {
     "data": {
      "text/plain": [
       "array([3, 5, 6, 8])"
      ]
     },
     "execution_count": 4,
     "metadata": {},
     "output_type": "execute_result"
    }
   ],
   "source": [
    "a = np.array([3,5,6,8]) \n",
    "# a diye bir vektör oluşturalım\n",
    "# numpy kütüphanesi içerisinden array fonksiyonunu çağıracağız \n",
    "# array ise içine aldığı elemanları numpy array'ine çevirecek\n",
    "# tek boyutlu vektörleri bu şekilde oluşturabilirsiniz\n",
    "a"
   ]
  },
  {
   "cell_type": "code",
   "execution_count": 8,
   "id": "introductory-happening",
   "metadata": {},
   "outputs": [
    {
     "data": {
      "text/plain": [
       "array([[3, 5, 9],\n",
       "       [6, 9, 7]])"
      ]
     },
     "execution_count": 8,
     "metadata": {},
     "output_type": "execute_result"
    }
   ],
   "source": [
    "# 2 boyutlu bir matris oluşturmak\n",
    "# içiçe listeler kullanabilirsiniz\n",
    "# içeriye oluşturduğunuz her bir liste, matrisde ki bir satırı tanımlıyor\n",
    "# 2*3'lük bir matris oluştu\n",
    "# her satırda 3 eleman olduğu için\n",
    "a = np.array([[3,5,9],[6,9,7]]) ;a\n"
   ]
  },
  {
   "cell_type": "code",
   "execution_count": 9,
   "id": "otherwise-incentive",
   "metadata": {},
   "outputs": [
    {
     "data": {
      "text/plain": [
       "2"
      ]
     },
     "execution_count": 9,
     "metadata": {},
     "output_type": "execute_result"
    }
   ],
   "source": [
    "# bir array'in boyutunu görmek\n",
    "# ndim attribute'unu kullanmalısınız\n",
    "a.ndim"
   ]
  },
  {
   "cell_type": "code",
   "execution_count": 11,
   "id": "optical-nursing",
   "metadata": {},
   "outputs": [
    {
     "data": {
      "text/plain": [
       "(2, 3)"
      ]
     },
     "execution_count": 11,
     "metadata": {},
     "output_type": "execute_result"
    }
   ],
   "source": [
    "# her bir boyutta kaç eleman olduğunu görmek\n",
    "# 2,3'lük bir matris olduğunu görebilirsiniz\n",
    "a.shape"
   ]
  },
  {
   "cell_type": "code",
   "execution_count": 12,
   "id": "terminal-printing",
   "metadata": {},
   "outputs": [
    {
     "data": {
      "text/plain": [
       "6"
      ]
     },
     "execution_count": 12,
     "metadata": {},
     "output_type": "execute_result"
    }
   ],
   "source": [
    "# kaç tane elaman olduğunu görmek\n",
    "a.size"
   ]
  },
  {
   "cell_type": "code",
   "execution_count": 15,
   "id": "loaded-promise",
   "metadata": {},
   "outputs": [
    {
     "data": {
      "text/plain": [
       "array([[[1, 2, 5],\n",
       "        [2, 9, 3]],\n",
       "\n",
       "       [[3, 5, 8],\n",
       "        [6, 9, 7]]])"
      ]
     },
     "execution_count": 15,
     "metadata": {},
     "output_type": "execute_result"
    }
   ],
   "source": [
    "# 3 boyutlu bir array oluşturmak\n",
    "# iç içe 3 listeye ihtiyacınız var\n",
    "# en dışta ki liste bir array oluşturduğunuzu, 2.liste 2.boyutu, 3.liste ise 3.boyutu verecektir\n",
    "# 3. boyuttaki elemanlar satırı, satırın bir üstünde sütunu verecektir, sütunun bir üstünde ise matrisi verecektir\n",
    "# iç içe geçmiş 2. matrisi oluşturabilirsiniz\n",
    "# 2 matris oluşturdunuz aslında\n",
    "# 3. boyut aslında kaç tane matris oluşturduğunuz arka arkaya, derinliği veriyor\n",
    "# 2,3'lük 2 matris oluşturdunuz\n",
    "a = np.array([[[1,2,5],[2,9,3]],[[3,5,8],[6,9,7]]]) ; a"
   ]
  },
  {
   "cell_type": "code",
   "execution_count": 16,
   "id": "offensive-ordinary",
   "metadata": {},
   "outputs": [
    {
     "data": {
      "text/plain": [
       "3"
      ]
     },
     "execution_count": 16,
     "metadata": {},
     "output_type": "execute_result"
    }
   ],
   "source": [
    "a.ndim"
   ]
  },
  {
   "cell_type": "code",
   "execution_count": 17,
   "id": "portuguese-difference",
   "metadata": {},
   "outputs": [
    {
     "data": {
      "text/plain": [
       "(2, 2, 3)"
      ]
     },
     "execution_count": 17,
     "metadata": {},
     "output_type": "execute_result"
    }
   ],
   "source": [
    "a.shape"
   ]
  },
  {
   "cell_type": "code",
   "execution_count": 18,
   "id": "conservative-differential",
   "metadata": {},
   "outputs": [
    {
     "data": {
      "text/plain": [
       "array([0, 1, 2, 3])"
      ]
     },
     "execution_count": 18,
     "metadata": {},
     "output_type": "execute_result"
    }
   ],
   "source": [
    "# arange fonksiyonu\n",
    "# eğer içine bir değer girerseniz, 4 olsun.\n",
    "# size 0'dan 4'e kadar array verecek\n",
    "# ama 4 dahil değil, Python'da son parametre çoğu zaman dahil olmuyor\n",
    "# diğerinde ise size 4'den başlayıp 10'a kadar array üretecek\n",
    "# isterseniz kaçar kaçar artacağını da belirtebilirsiniz\n",
    "# kaçar kaçar azalacağını da belirtebilirsiniz\n",
    "\n",
    "np.arange(4)"
   ]
  },
  {
   "cell_type": "code",
   "execution_count": 19,
   "id": "unable-bangladesh",
   "metadata": {},
   "outputs": [
    {
     "data": {
      "text/plain": [
       "array([4, 5, 6, 7, 8, 9])"
      ]
     },
     "execution_count": 19,
     "metadata": {},
     "output_type": "execute_result"
    }
   ],
   "source": [
    "np.arange(4,10)"
   ]
  },
  {
   "cell_type": "code",
   "execution_count": 20,
   "id": "tough-calgary",
   "metadata": {},
   "outputs": [
    {
     "data": {
      "text/plain": [
       "array([4, 6, 8])"
      ]
     },
     "execution_count": 20,
     "metadata": {},
     "output_type": "execute_result"
    }
   ],
   "source": [
    "np.arange(4,10,2)"
   ]
  },
  {
   "cell_type": "code",
   "execution_count": 21,
   "id": "extended-harassment",
   "metadata": {},
   "outputs": [
    {
     "data": {
      "text/plain": [
       "array([20, 18, 16, 14, 12, 10,  8,  6])"
      ]
     },
     "execution_count": 21,
     "metadata": {},
     "output_type": "execute_result"
    }
   ],
   "source": [
    "np.arange(20,4,-2)"
   ]
  },
  {
   "cell_type": "code",
   "execution_count": 22,
   "id": "editorial-cream",
   "metadata": {},
   "outputs": [
    {
     "data": {
      "text/plain": [
       "array([ 4.        ,  5.77777778,  7.55555556,  9.33333333, 11.11111111,\n",
       "       12.88888889, 14.66666667, 16.44444444, 18.22222222, 20.        ])"
      ]
     },
     "execution_count": 22,
     "metadata": {},
     "output_type": "execute_result"
    }
   ],
   "source": [
    "# np.linspace fonksiyonu\n",
    "# belli aralıklar ile kaç tane sayı üreteceğini söyleyebilirsiniz\n",
    "# burada başlangıç ve bitiş de dahil ona dikkat etmeniz lazım \n",
    "np.linspace(4,20,10)"
   ]
  },
  {
   "cell_type": "code",
   "execution_count": 25,
   "id": "golden-alignment",
   "metadata": {},
   "outputs": [
    {
     "data": {
      "text/plain": [
       "[<matplotlib.lines.Line2D at 0x1d7839cbfc8>]"
      ]
     },
     "execution_count": 25,
     "metadata": {},
     "output_type": "execute_result"
    },
    {
     "data": {
      "image/png": "[encoded data removed]",
      "text/plain": [
       "<Figure size 432x288 with 1 Axes>"
      ]
     },
     "metadata": {
      "needs_background": "light"
     },
     "output_type": "display_data"
    }
   ],
   "source": [
    "# np.linspace fonksiyonunu, np.cos function'ı ile kullanmak\n",
    "# 100 sayı üretmek istiyoruz diyelim\n",
    "# numpy içerisinde çoğu sabit sayı mevcut, pi gibi\n",
    "# x aslında -2pi ile 2pi arasında 100 tane sayı üretecek \n",
    "# 100 elemanlı bir vektör aslında \n",
    "# numpy'ın herhangi bir fonksiyonunu uyguladığınız da y'ye atacak\n",
    "# bunu matplotlib ile çizdirebilirsiniz\n",
    "# size cos eğrisini çizderecek\n",
    "a = 100\n",
    "\n",
    "x = np.linspace(-2*np.pi, 2*np.pi, a)\n",
    "\n",
    "y = np.cos(x)\n",
    "\n",
    "import matplotlib.pyplot as plt \n",
    "\n",
    "plt.plot(x,y)"
   ]
  },
  {
   "cell_type": "code",
   "execution_count": null,
   "id": "parental-dairy",
   "metadata": {},
   "outputs": [],
   "source": []
  }
 ],
 "metadata": {
  "kernelspec": {
   "display_name": "Python 3",
   "language": "python",
   "name": "python3"
  },
  "language_info": {
   "codemirror_mode": {
    "name": "ipython",
    "version": 3
   },
   "file_extension": ".py",
   "mimetype": "text/x-python",
   "name": "python",
   "nbconvert_exporter": "python",
   "pygments_lexer": "ipython3",
   "version": "3.7.9"
  }
 },
 "nbformat": 4,
 "nbformat_minor": 5
}
