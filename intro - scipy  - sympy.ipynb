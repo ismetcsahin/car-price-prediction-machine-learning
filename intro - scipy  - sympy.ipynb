{
 "cells": [
  {
   "cell_type": "markdown",
   "id": "royal-constitutional",
   "metadata": {},
   "source": [
    "# SciPy - Sympy"
   ]
  },
  {
   "cell_type": "code",
   "execution_count": 8,
   "id": "regular-utility",
   "metadata": {},
   "outputs": [],
   "source": [
    "import numpy as np\n",
    "from scipy.optimize import linprog"
   ]
  },
  {
   "cell_type": "code",
   "execution_count": 9,
   "id": "referenced-realtor",
   "metadata": {},
   "outputs": [],
   "source": [
    "f = np.array([-28,-36])\n",
    "C = np.array([[15,10],[6,10]])\n",
    "D = np.array([4000,3500])"
   ]
  },
  {
   "cell_type": "code",
   "execution_count": 10,
   "id": "resistant-chart",
   "metadata": {},
   "outputs": [],
   "source": [
    "# sırası ile amaç fonksiyonu değişkenlerinin katsayılarını ve kısıtlardaki değişkenlerin katsayısını içeren matrisi\n",
    "# ayrıca kısıtlardaki eşitsizliğin sağ tarafındaki vektörü girmelisiniz\n",
    "# bounds ise değişkenlerin ksııtlarının ne olması, yani o da 0'dan büyük olması değişkenlerin\n",
    "# en az 0 olabilir, en çok ise yok yani None olmalı, her iki değişken içinde bunu yapmalısınız.\n",
    "linearmodel = linprog(f, C, D, bounds = [[0, None], [0, None]])\n"
   ]
  },
  {
   "cell_type": "code",
   "execution_count": 15,
   "id": "spanish-istanbul",
   "metadata": {},
   "outputs": [
    {
     "name": "stdout",
     "output_type": "stream",
     "text": [
      "12955.555550957984\n",
      "[ 55.55555552 316.66666657]\n"
     ]
    }
   ],
   "source": [
    "# fun size amaç fonksiyonunun  minimum noktadaki amaç fonksiyonunun değerini veriyor\n",
    "# 12955 $ kar edebiliyormuşsunuz, bunu (-) ile çarpmalısınız minimize ettiğimiz için \n",
    "# Bunu sağlayan x ve y değerleri ise linearmode.x fonksiyonu ile çağırabilirsiniz\n",
    "# A ürününden 55.55 kg üret, B ürününden ise 316.66 kg üretirseniz amaç fonksiyonunu maximize edebilirsiniz.\n",
    "print(-linearmodel.fun) # burada linearmodel object'sinin fun fonksiyonunun altında o yüzden fun\n",
    "print(linearmodel.x)"
   ]
  },
  {
   "cell_type": "code",
   "execution_count": 16,
   "id": "alpha-manufacturer",
   "metadata": {},
   "outputs": [
    {
     "data": {
      "text/plain": [
       "     con: array([], dtype=float64)\n",
       "     fun: -12955.555550957984\n",
       " message: 'Optimization terminated successfully.'\n",
       "     nit: 5\n",
       "   slack: array([1.52378834e-06, 1.21638050e-06])\n",
       "  status: 0\n",
       " success: True\n",
       "       x: array([ 55.55555552, 316.66666657])"
      ]
     },
     "execution_count": 16,
     "metadata": {},
     "output_type": "execute_result"
    }
   ],
   "source": [
    "linearmodel"
   ]
  },
  {
   "cell_type": "markdown",
   "id": "clean-lancaster",
   "metadata": {},
   "source": [
    "# Sympy - sembolik hesaplama\n",
    "### Sembolik hesaplama işlemi hemen yapmıyorsunuz, işlemi sembolik olarak tutuyorsunuz."
   ]
  },
  {
   "cell_type": "code",
   "execution_count": 18,
   "id": "clinical-intermediate",
   "metadata": {},
   "outputs": [],
   "source": [
    "import sympy as sym \n",
    "import numpy as np"
   ]
  },
  {
   "cell_type": "code",
   "execution_count": 20,
   "id": "equipped-freeware",
   "metadata": {},
   "outputs": [
    {
     "data": {
      "text/latex": [
       "$\\displaystyle \\frac{1}{2}$"
      ],
      "text/plain": [
       "1/2"
      ]
     },
     "execution_count": 20,
     "metadata": {},
     "output_type": "execute_result"
    }
   ],
   "source": [
    "# Kesirli sayıları göstermek\n",
    "a = sym.Rational (1,2) ; a"
   ]
  },
  {
   "cell_type": "code",
   "execution_count": 21,
   "id": "fleet-stand",
   "metadata": {},
   "outputs": [
    {
     "data": {
      "text/latex": [
       "$\\displaystyle \\pi$"
      ],
      "text/plain": [
       "pi"
      ]
     },
     "execution_count": 21,
     "metadata": {},
     "output_type": "execute_result"
    }
   ],
   "source": [
    "# pi sayısını yazdırmak\n",
    "sym.pi"
   ]
  },
  {
   "cell_type": "code",
   "execution_count": 22,
   "id": "premier-muslim",
   "metadata": {},
   "outputs": [
    {
     "data": {
      "text/latex": [
       "$\\displaystyle \\pi^{2}$"
      ],
      "text/plain": [
       "pi**2"
      ]
     },
     "execution_count": 22,
     "metadata": {},
     "output_type": "execute_result"
    }
   ],
   "source": [
    "sym.pi**2"
   ]
  },
  {
   "cell_type": "code",
   "execution_count": 23,
   "id": "thick-potato",
   "metadata": {},
   "outputs": [
    {
     "data": {
      "text/latex": [
       "$\\displaystyle 9.86960440108936$"
      ],
      "text/plain": [
       "9.86960440108936"
      ]
     },
     "execution_count": 23,
     "metadata": {},
     "output_type": "execute_result"
    }
   ],
   "source": [
    "# size değerini döndürecektir, eğer kullanmak isterseniz\n",
    "# evaluate'den geliyor\n",
    "(sym.pi**2).evalf()"
   ]
  },
  {
   "cell_type": "code",
   "execution_count": 25,
   "id": "hazardous-phrase",
   "metadata": {},
   "outputs": [
    {
     "data": {
      "text/latex": [
       "$\\displaystyle 5.85987448204884$"
      ],
      "text/plain": [
       "5.85987448204884"
      ]
     },
     "execution_count": 25,
     "metadata": {},
     "output_type": "execute_result"
    }
   ],
   "source": [
    "# pi değeri ile e değerini toplamak\n",
    "# eksponansiyel yani üstel fonksiyonu döndürecek\n",
    "(sym.pi + sym.exp(1)).evalf()"
   ]
  },
  {
   "cell_type": "code",
   "execution_count": 28,
   "id": "oriented-feedback",
   "metadata": {},
   "outputs": [],
   "source": [
    "# değişkenleri de sembolik değişken yapmak\n",
    "\n",
    "a = sym.Symbol(\"a\") \n",
    "b = sym.Symbol(\"b\") "
   ]
  },
  {
   "cell_type": "code",
   "execution_count": 29,
   "id": "happy-cotton",
   "metadata": {},
   "outputs": [
    {
     "data": {
      "text/latex": [
       "$\\displaystyle \\left(a + b\\right)^{2}$"
      ],
      "text/plain": [
       "(a + b)**2"
      ]
     },
     "execution_count": 29,
     "metadata": {},
     "output_type": "execute_result"
    }
   ],
   "source": [
    "(a + b)**2"
   ]
  },
  {
   "cell_type": "code",
   "execution_count": 30,
   "id": "pleased-eight",
   "metadata": {},
   "outputs": [
    {
     "data": {
      "text/latex": [
       "$\\displaystyle a^{2} + 2 a b + b^{2}$"
      ],
      "text/plain": [
       "a**2 + 2*a*b + b**2"
      ]
     },
     "execution_count": 30,
     "metadata": {},
     "output_type": "execute_result"
    }
   ],
   "source": [
    "# fonksiyonu genişletmek\n",
    "sym.expand((a + b)**2) "
   ]
  },
  {
   "cell_type": "code",
   "execution_count": 31,
   "id": "wicked-freight",
   "metadata": {},
   "outputs": [
    {
     "data": {
      "text/latex": [
       "$\\displaystyle \\sqrt{3}$"
      ],
      "text/plain": [
       "sqrt(3)"
      ]
     },
     "execution_count": 31,
     "metadata": {},
     "output_type": "execute_result"
    }
   ],
   "source": [
    "# köklü sayı ile göstermek\n",
    "sym.sqrt(3)"
   ]
  },
  {
   "cell_type": "code",
   "execution_count": null,
   "id": "manual-donna",
   "metadata": {},
   "outputs": [],
   "source": []
  }
 ],
 "metadata": {
  "kernelspec": {
   "display_name": "Python 3",
   "language": "python",
   "name": "python3"
  },
  "language_info": {
   "codemirror_mode": {
    "name": "ipython",
    "version": 3
   },
   "file_extension": ".py",
   "mimetype": "text/x-python",
   "name": "python",
   "nbconvert_exporter": "python",
   "pygments_lexer": "ipython3",
   "version": "3.7.9"
  }
 },
 "nbformat": 4,
 "nbformat_minor": 5
}
